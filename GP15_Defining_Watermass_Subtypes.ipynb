{
  "nbformat": 4,
  "nbformat_minor": 0,
  "metadata": {
    "colab": {
      "name": "GP15_Defining_Watermass_Subtypes",
      "provenance": [],
      "collapsed_sections": [],
      "include_colab_link": true
    },
    "kernelspec": {
      "name": "python3",
      "display_name": "Python 3"
    }
  },
  "cells": [
    {
      "cell_type": "markdown",
      "metadata": {
        "id": "view-in-github",
        "colab_type": "text"
      },
      "source": [
        "<a href=\"https://colab.research.google.com/github/nitrogenlab/GP15_watermassanalysis/blob/main/GP15_Defining_Watermass_Subtypes.ipynb\" target=\"_parent\"><img src=\"https://colab.research.google.com/assets/colab-badge.svg\" alt=\"Open In Colab\"/></a>"
      ]
    },
    {
      "cell_type": "code",
      "metadata": {
        "id": "4cO6z99Bxu95",
        "colab": {
          "base_uri": "https://localhost:8080/"
        },
        "outputId": "83ed815b-19ce-4452-eae7-e8f54ce8df4b"
      },
      "source": [
        "!pip install py_pcha\n",
        "!pip install gsw"
      ],
      "execution_count": 1,
      "outputs": [
        {
          "output_type": "stream",
          "text": [
            "Collecting py_pcha\n",
            "  Downloading https://files.pythonhosted.org/packages/fb/02/65048696734e504414b7a8ea171a0c012fcb72daebb69826024478d3a3d8/py_pcha-0.1.3-py3-none-any.whl\n",
            "Installing collected packages: py-pcha\n",
            "Successfully installed py-pcha-0.1.3\n",
            "Collecting gsw\n",
            "\u001b[?25l  Downloading https://files.pythonhosted.org/packages/72/33/c3ec417e4cd1cc7f8039ce75f92f67010cca7f46a505906e32be2b33f008/gsw-3.4.0-cp37-cp37m-manylinux2010_x86_64.whl (2.4MB)\n",
            "\u001b[K     |████████████████████████████████| 2.4MB 17.8MB/s \n",
            "\u001b[?25hRequirement already satisfied: numpy in /usr/local/lib/python3.7/dist-packages (from gsw) (1.19.5)\n",
            "Installing collected packages: gsw\n",
            "Successfully installed gsw-3.4.0\n"
          ],
          "name": "stdout"
        }
      ]
    },
    {
      "cell_type": "markdown",
      "metadata": {
        "id": "0qqA6m0COfsu"
      },
      "source": [
        "Grab the data"
      ]
    },
    {
      "cell_type": "code",
      "metadata": {
        "id": "5v0JbRw9rGjl",
        "colab": {
          "base_uri": "https://localhost:8080/"
        },
        "outputId": "6d4a7b69-9eb8-4329-8643-9a719fd1ca88"
      },
      "source": [
        "!wget --no-check-certificate 'https://docs.google.com/uc?export=download&id=1O869bUhoTrPCW4hDaSVswLiQ7vzhzIlP' -O names_added_GP15OMPA_33RR20180918_only_gs_rosette_clean1_hy1.csv"
      ],
      "execution_count": 2,
      "outputs": [
        {
          "output_type": "stream",
          "text": [
            "--2021-05-04 02:31:04--  https://docs.google.com/uc?export=download&id=1O869bUhoTrPCW4hDaSVswLiQ7vzhzIlP\n",
            "Resolving docs.google.com (docs.google.com)... 142.250.81.206, 2607:f8b0:4004:82f::200e\n",
            "Connecting to docs.google.com (docs.google.com)|142.250.81.206|:443... connected.\n",
            "HTTP request sent, awaiting response... 302 Moved Temporarily\n",
            "Location: https://doc-0s-a4-docs.googleusercontent.com/docs/securesc/ha0ro937gcuc7l7deffksulhg5h7mbp1/uot9igrm5lk2i76mt1iimc2pv96vmvmf/1620095400000/06203730782251856755/*/1O869bUhoTrPCW4hDaSVswLiQ7vzhzIlP?e=download [following]\n",
            "Warning: wildcards not supported in HTTP.\n",
            "--2021-05-04 02:31:05--  https://doc-0s-a4-docs.googleusercontent.com/docs/securesc/ha0ro937gcuc7l7deffksulhg5h7mbp1/uot9igrm5lk2i76mt1iimc2pv96vmvmf/1620095400000/06203730782251856755/*/1O869bUhoTrPCW4hDaSVswLiQ7vzhzIlP?e=download\n",
            "Resolving doc-0s-a4-docs.googleusercontent.com (doc-0s-a4-docs.googleusercontent.com)... 142.251.33.193, 2607:f8b0:4004:837::2001\n",
            "Connecting to doc-0s-a4-docs.googleusercontent.com (doc-0s-a4-docs.googleusercontent.com)|142.251.33.193|:443... connected.\n",
            "HTTP request sent, awaiting response... 200 OK\n",
            "Length: 71167 (69K) [text/csv]\n",
            "Saving to: ‘names_added_GP15OMPA_33RR20180918_only_gs_rosette_clean1_hy1.csv’\n",
            "\n",
            "names_added_GP15OMP 100%[===================>]  69.50K  --.-KB/s    in 0.01s   \n",
            "\n",
            "2021-05-04 02:31:05 (4.99 MB/s) - ‘names_added_GP15OMPA_33RR20180918_only_gs_rosette_clean1_hy1.csv’ saved [71167/71167]\n",
            "\n"
          ],
          "name": "stdout"
        }
      ]
    },
    {
      "cell_type": "code",
      "metadata": {
        "id": "k4pyP4Wdh525"
      },
      "source": [
        "from matplotlib import pyplot as plt\n",
        "import numpy as np\n",
        "import pandas\n",
        "import gsw"
      ],
      "execution_count": 3,
      "outputs": []
    },
    {
      "cell_type": "markdown",
      "metadata": {
        "id": "OI2Ec0E-P4z2"
      },
      "source": [
        "Read in the data frame and rename the columns"
      ]
    },
    {
      "cell_type": "code",
      "metadata": {
        "id": "K0XJMvR2ix85",
        "colab": {
          "base_uri": "https://localhost:8080/",
          "height": 265
        },
        "outputId": "9aed8379-885c-4357-9b71-cc5b92033f49"
      },
      "source": [
        "df = pandas.read_csv(\"names_added_GP15OMPA_33RR20180918_only_gs_rosette_clean1_hy1.csv\", na_values = -999)\n",
        "\n",
        "plt.hist(df[\"lat\"], bins=30)\n",
        "plt.show()"
      ],
      "execution_count": 29,
      "outputs": [
        {
          "output_type": "display_data",
          "data": {
            "image/png": "[encoded data removed]",
            "text/plain": [
              "<Figure size 432x288 with 1 Axes>"
            ]
          },
          "metadata": {
            "tags": [],
            "needs_background": "light"
          }
        }
      ]
    },
    {
      "cell_type": "code",
      "metadata": {
        "id": "Fty6uD3VPZQ-"
      },
      "source": [
        "filter_conditions = {\n",
        "    \"AAIW\": {\"lat_min\":-51.0, \"lat_max\":-47.0,\n",
        "             \"lon_min\":-120.0, \"lon_max\":150.0,\n",
        "             \"sig0_min\":27.01, \"sig0_max\":27.1}\n",
        "}\n",
        "\n",
        "def filter_rows(lat_min, lat_max, lon_min, lon_max, sig0_min, sig0_max):\n",
        "  return remapnames_df[(remapnames_df[\"lat\"] >= lat_min) &\n",
        "                       (remapnames_df[\"lat\"] <= lat_max) #&\n",
        "                       #(remapnames_df[\"lon\"] >= lon_min) &\n",
        "                       #(remapnames_df[\"lon\"] <= lon_max) &\n",
        "                       #(remapnames_df[\"sig0\"] >= sig0_min) &\n",
        "                       #(remapnames_df[\"sig0\"] >= sig0_max)\n",
        "                       ]\n",
        "                       \n",
        "AAIW_rows = filter_rows(**filter_conditions[\"AAIW\"])"
      ],
      "execution_count": 18,
      "outputs": []
    },
    {
      "cell_type": "code",
      "metadata": {
        "colab": {
          "base_uri": "https://localhost:8080/",
          "height": 49
        },
        "id": "1c4hoJ-xUlWH",
        "outputId": "9d61c127-cf5f-414e-ad71-afe2f659a1d8"
      },
      "source": [
        "AAIW_rows"
      ],
      "execution_count": 19,
      "outputs": [
        {
          "output_type": "execute_result",
          "data": {
            "text/html": [
              "<div>\n",
              "<style scoped>\n",
              "    .dataframe tbody tr th:only-of-type {\n",
              "        vertical-align: middle;\n",
              "    }\n",
              "\n",
              "    .dataframe tbody tr th {\n",
              "        vertical-align: top;\n",
              "    }\n",
              "\n",
              "    .dataframe thead th {\n",
              "        text-align: right;\n",
              "    }\n",
              "</style>\n",
              "<table border=\"1\" class=\"dataframe\">\n",
              "  <thead>\n",
              "    <tr style=\"text-align: right;\">\n",
              "      <th></th>\n",
              "      <th>stnnbr</th>\n",
              "      <th>geotrc_ID</th>\n",
              "      <th>lat</th>\n",
              "      <th>lon</th>\n",
              "      <th>depth</th>\n",
              "      <th>pres</th>\n",
              "      <th>temp</th>\n",
              "      <th>salinity</th>\n",
              "      <th>oxygen</th>\n",
              "      <th>silicate</th>\n",
              "      <th>nitrate</th>\n",
              "      <th>phosphate</th>\n",
              "      <th>sig0</th>\n",
              "      <th>PO</th>\n",
              "      <th>NO</th>\n",
              "      <th>pt</th>\n",
              "    </tr>\n",
              "  </thead>\n",
              "  <tbody>\n",
              "  </tbody>\n",
              "</table>\n",
              "</div>"
            ],
            "text/plain": [
              "Empty DataFrame\n",
              "Columns: [stnnbr, geotrc_ID, lat, lon, depth, pres, temp, salinity, oxygen, silicate, nitrate, phosphate, sig0, PO, NO, pt]\n",
              "Index: []"
            ]
          },
          "metadata": {
            "tags": []
          },
          "execution_count": 19
        }
      ]
    },
    {
      "cell_type": "code",
      "metadata": {
        "id": "x7PfaqTTf9xd"
      },
      "source": [
        ""
      ],
      "execution_count": null,
      "outputs": []
    }
  ]
}