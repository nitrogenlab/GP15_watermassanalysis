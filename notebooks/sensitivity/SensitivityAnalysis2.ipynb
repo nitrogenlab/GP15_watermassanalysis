{
  "nbformat": 4,
  "nbformat_minor": 0,
  "metadata": {
    "colab": {
      "name": "SensitivityAnalysis2",
      "provenance": [],
      "collapsed_sections": [],
      "machine_shape": "hm",
      "include_colab_link": true
    },
    "kernelspec": {
      "name": "python3",
      "display_name": "Python 3"
    },
    "language_info": {
      "name": "python"
    }
  },
  "cells": [
    {
      "cell_type": "markdown",
      "metadata": {
        "id": "view-in-github",
        "colab_type": "text"
      },
      "source": [
        "<a href=\"https://colab.research.google.com/github/nitrogenlab/GP15_watermassanalysis/blob/main/notebooks/sensitivity/SensitivityAnalysis2.ipynb\" target=\"_parent\"><img src=\"https://colab.research.google.com/assets/colab-badge.svg\" alt=\"Open In Colab\"/></a>"
      ]
    },
    {
      "cell_type": "code",
      "metadata": {
        "colab": {
          "base_uri": "https://localhost:8080/"
        },
        "id": "JWAn26Ui_14q",
        "outputId": "9b169696-5c83-4649-c058-c4e35b2720eb"
      },
      "source": [
        "#Based on the original sensitivity analysis notebook at\n",
        "# https://github.com/nitrogenlab/GP15_watermassanalysis/blob/5d0420ae4b8a4689a8cee98e36876e8ed2cb8c68/GP15analysis_sensitivityanalysis.ipynb\n",
        "\n",
        "#Install pyompa\n",
        "!pip uninstall -y pyompa\n",
        "%cd /content/\n",
        "!rm -rf pyompa\n",
        "!git clone https://github.com/nitrogenlab/pyompa\n",
        "%cd /content/pyompa\n",
        "!git checkout dev\n",
        "!git log -1\n",
        "!pip install .\n",
        "%cd /content/\n",
        "\n",
        "\n",
        "%reload_ext autoreload\n",
        "%autoreload 2\n",
        "from importlib import reload\n",
        "import pyompa\n",
        "reload(pyompa)"
      ],
      "execution_count": 1,
      "outputs": [
        {
          "output_type": "stream",
          "name": "stdout",
          "text": [
            "\u001b[33mWARNING: Skipping pyompa as it is not installed.\u001b[0m\n",
            "/content\n",
            "Cloning into 'pyompa'...\n",
            "remote: Enumerating objects: 1268, done.\u001b[K\n",
            "remote: Counting objects: 100% (576/576), done.\u001b[K\n",
            "remote: Compressing objects: 100% (383/383), done.\u001b[K\n",
            "remote: Total 1268 (delta 407), reused 337 (delta 190), pack-reused 692\u001b[K\n",
            "Receiving objects: 100% (1268/1268), 14.92 MiB | 16.36 MiB/s, done.\n",
            "Resolving deltas: 100% (893/893), done.\n",
            "/content/pyompa\n",
            "Branch 'dev' set up to track remote branch 'dev' from 'origin'.\n",
            "Switched to a new branch 'dev'\n",
            "\u001b[33mcommit 9f477e6093ff3352dad675fb5ab7f95f16366efc\u001b[m\u001b[33m (\u001b[m\u001b[1;36mHEAD -> \u001b[m\u001b[1;32mdev\u001b[m\u001b[33m, \u001b[m\u001b[1;31morigin/dev\u001b[m\u001b[33m)\u001b[m\n",
            "Author: Av Shrikumar <avanti.shrikumar@gmail.com>\n",
            "Date:   Mon Dec 6 04:55:27 2021 -0600\n",
            "\n",
            "    bugfix\n",
            "Processing /content/pyompa\n",
            "\u001b[33m  DEPRECATION: A future pip version will change local packages to be built in-place without first copying to a temporary directory. We recommend you use --use-feature=in-tree-build to test your packages with this new behavior before it becomes the default.\n",
            "   pip 21.3 will remove support for this functionality. You can find discussion regarding this at https://github.com/pypa/pip/issues/7555.\u001b[0m\n",
            "Requirement already satisfied: numpy in /usr/local/lib/python3.7/dist-packages (from pyompa==0.4.0.0) (1.19.5)\n",
            "Requirement already satisfied: pandas in /usr/local/lib/python3.7/dist-packages (from pyompa==0.4.0.0) (1.1.5)\n",
            "Requirement already satisfied: cvxpy in /usr/local/lib/python3.7/dist-packages (from pyompa==0.4.0.0) (1.0.31)\n",
            "Requirement already satisfied: scipy in /usr/local/lib/python3.7/dist-packages (from pyompa==0.4.0.0) (1.4.1)\n",
            "Requirement already satisfied: toml in /usr/local/lib/python3.7/dist-packages (from pyompa==0.4.0.0) (0.10.2)\n",
            "Requirement already satisfied: osqp>=0.4.1 in /usr/local/lib/python3.7/dist-packages (from cvxpy->pyompa==0.4.0.0) (0.6.2.post0)\n",
            "Requirement already satisfied: ecos>=2 in /usr/local/lib/python3.7/dist-packages (from cvxpy->pyompa==0.4.0.0) (2.0.7.post1)\n",
            "Requirement already satisfied: multiprocess in /usr/local/lib/python3.7/dist-packages (from cvxpy->pyompa==0.4.0.0) (0.70.12.2)\n",
            "Requirement already satisfied: scs>=1.1.3 in /usr/local/lib/python3.7/dist-packages (from cvxpy->pyompa==0.4.0.0) (2.1.4)\n",
            "Requirement already satisfied: qdldl in /usr/local/lib/python3.7/dist-packages (from osqp>=0.4.1->cvxpy->pyompa==0.4.0.0) (0.1.5.post0)\n",
            "Requirement already satisfied: dill>=0.3.4 in /usr/local/lib/python3.7/dist-packages (from multiprocess->cvxpy->pyompa==0.4.0.0) (0.3.4)\n",
            "Requirement already satisfied: python-dateutil>=2.7.3 in /usr/local/lib/python3.7/dist-packages (from pandas->pyompa==0.4.0.0) (2.8.2)\n",
            "Requirement already satisfied: pytz>=2017.2 in /usr/local/lib/python3.7/dist-packages (from pandas->pyompa==0.4.0.0) (2018.9)\n",
            "Requirement already satisfied: six>=1.5 in /usr/local/lib/python3.7/dist-packages (from python-dateutil>=2.7.3->pandas->pyompa==0.4.0.0) (1.15.0)\n",
            "Building wheels for collected packages: pyompa\n",
            "  Building wheel for pyompa (setup.py) ... \u001b[?25l\u001b[?25hdone\n",
            "  Created wheel for pyompa: filename=pyompa-0.4.0.0-py3-none-any.whl size=28506 sha256=b6867490bdcb945e8af6df81cd4d27b882141df05c00694a0a86abb0ed49aea9\n",
            "  Stored in directory: /tmp/pip-ephem-wheel-cache-0dxdahih/wheels/a5/80/3a/988c250164e008ea701260bb1371236c188ac1cde414fad34c\n",
            "Successfully built pyompa\n",
            "Installing collected packages: pyompa\n",
            "Successfully installed pyompa-0.4.0.0\n",
            "/content\n"
          ]
        },
        {
          "output_type": "execute_result",
          "data": {
            "text/plain": [
              "<module 'pyompa' from '/usr/local/lib/python3.7/dist-packages/pyompa/__init__.py'>"
            ]
          },
          "metadata": {},
          "execution_count": 1
        }
      ]
    },
    {
      "cell_type": "code",
      "metadata": {
        "colab": {
          "base_uri": "https://localhost:8080/"
        },
        "id": "BkjI-PQXA1Vt",
        "outputId": "4e9d1394-e590-4fe2-8c25-930ff2d3948b"
      },
      "source": [
        "#Install gp15wmascripts\n",
        "!pip uninstall -y gp15wma\n",
        "%cd /content/\n",
        "!rm -rf gp15wmascripts\n",
        "!git clone https://github.com/nitrogenlab/gp15wmascripts\n",
        "%cd /content/gp15wmascripts\n",
        "!git checkout main\n",
        "!git log -1\n",
        "!pip install .\n",
        "%cd /content/\n",
        "\n",
        "%reload_ext autoreload\n",
        "%autoreload 2\n",
        "from importlib import reload\n",
        "import gp15wma\n",
        "reload(gp15wma)"
      ],
      "execution_count": 2,
      "outputs": [
        {
          "output_type": "stream",
          "name": "stdout",
          "text": [
            "\u001b[33mWARNING: Skipping gp15wma as it is not installed.\u001b[0m\n",
            "/content\n",
            "Cloning into 'gp15wmascripts'...\n",
            "remote: Enumerating objects: 97, done.\u001b[K\n",
            "remote: Counting objects: 100% (97/97), done.\u001b[K\n",
            "remote: Compressing objects: 100% (71/71), done.\u001b[K\n",
            "remote: Total 97 (delta 52), reused 65 (delta 25), pack-reused 0\u001b[K\n",
            "Unpacking objects: 100% (97/97), done.\n",
            "/content/gp15wmascripts\n",
            "Already on 'main'\n",
            "Your branch is up to date with 'origin/main'.\n",
            "\u001b[33mcommit d7d1c8a2143b6f656e3001be7096a7dcf3fd763a\u001b[m\u001b[33m (\u001b[m\u001b[1;36mHEAD -> \u001b[m\u001b[1;32mmain\u001b[m\u001b[33m, \u001b[m\u001b[1;31morigin/main\u001b[m\u001b[33m, \u001b[m\u001b[1;31morigin/HEAD\u001b[m\u001b[33m)\u001b[m\n",
            "Author: Av Shrikumar <avanti.shrikumar@gmail.com>\n",
            "Date:   Sun Dec 5 20:03:02 2021 -0600\n",
            "\n",
            "    removed redundant code, updated settings\n",
            "Processing /content/gp15wmascripts\n",
            "\u001b[33m  DEPRECATION: A future pip version will change local packages to be built in-place without first copying to a temporary directory. We recommend you use --use-feature=in-tree-build to test your packages with this new behavior before it becomes the default.\n",
            "   pip 21.3 will remove support for this functionality. You can find discussion regarding this at https://github.com/pypa/pip/issues/7555.\u001b[0m\n",
            "Collecting gsw\n",
            "  Downloading gsw-3.4.0-cp37-cp37m-manylinux2010_x86_64.whl (2.4 MB)\n",
            "\u001b[K     |████████████████████████████████| 2.4 MB 11.8 MB/s \n",
            "\u001b[?25hRequirement already satisfied: pyompa in /usr/local/lib/python3.7/dist-packages (from gp15wma==0.1.0.0) (0.4.0.0)\n",
            "Requirement already satisfied: numpy in /usr/local/lib/python3.7/dist-packages (from gsw->gp15wma==0.1.0.0) (1.19.5)\n",
            "Requirement already satisfied: pandas in /usr/local/lib/python3.7/dist-packages (from pyompa->gp15wma==0.1.0.0) (1.1.5)\n",
            "Requirement already satisfied: cvxpy in /usr/local/lib/python3.7/dist-packages (from pyompa->gp15wma==0.1.0.0) (1.0.31)\n",
            "Requirement already satisfied: scipy in /usr/local/lib/python3.7/dist-packages (from pyompa->gp15wma==0.1.0.0) (1.4.1)\n",
            "Requirement already satisfied: toml in /usr/local/lib/python3.7/dist-packages (from pyompa->gp15wma==0.1.0.0) (0.10.2)\n",
            "Requirement already satisfied: scs>=1.1.3 in /usr/local/lib/python3.7/dist-packages (from cvxpy->pyompa->gp15wma==0.1.0.0) (2.1.4)\n",
            "Requirement already satisfied: osqp>=0.4.1 in /usr/local/lib/python3.7/dist-packages (from cvxpy->pyompa->gp15wma==0.1.0.0) (0.6.2.post0)\n",
            "Requirement already satisfied: ecos>=2 in /usr/local/lib/python3.7/dist-packages (from cvxpy->pyompa->gp15wma==0.1.0.0) (2.0.7.post1)\n",
            "Requirement already satisfied: multiprocess in /usr/local/lib/python3.7/dist-packages (from cvxpy->pyompa->gp15wma==0.1.0.0) (0.70.12.2)\n",
            "Requirement already satisfied: qdldl in /usr/local/lib/python3.7/dist-packages (from osqp>=0.4.1->cvxpy->pyompa->gp15wma==0.1.0.0) (0.1.5.post0)\n",
            "Requirement already satisfied: dill>=0.3.4 in /usr/local/lib/python3.7/dist-packages (from multiprocess->cvxpy->pyompa->gp15wma==0.1.0.0) (0.3.4)\n",
            "Requirement already satisfied: pytz>=2017.2 in /usr/local/lib/python3.7/dist-packages (from pandas->pyompa->gp15wma==0.1.0.0) (2018.9)\n",
            "Requirement already satisfied: python-dateutil>=2.7.3 in /usr/local/lib/python3.7/dist-packages (from pandas->pyompa->gp15wma==0.1.0.0) (2.8.2)\n",
            "Requirement already satisfied: six>=1.5 in /usr/local/lib/python3.7/dist-packages (from python-dateutil>=2.7.3->pandas->pyompa->gp15wma==0.1.0.0) (1.15.0)\n",
            "Building wheels for collected packages: gp15wma\n",
            "  Building wheel for gp15wma (setup.py) ... \u001b[?25l\u001b[?25hdone\n",
            "  Created wheel for gp15wma: filename=gp15wma-0.1.0.0-py3-none-any.whl size=6214 sha256=95a0be0e9f68f4c07c0f190c4d0db1fef1179ff0b25c9ad9d10395593f6b9cd0\n",
            "  Stored in directory: /tmp/pip-ephem-wheel-cache-r10v7xst/wheels/25/21/b6/8ff0328834cf7b15151209f457f1ab1328542a0cc5a0aa35ff\n",
            "Successfully built gp15wma\n",
            "Installing collected packages: gsw, gp15wma\n",
            "Successfully installed gp15wma-0.1.0.0 gsw-3.4.0\n",
            "/content\n"
          ]
        },
        {
          "output_type": "execute_result",
          "data": {
            "text/plain": [
              "<module 'gp15wma' from '/usr/local/lib/python3.7/dist-packages/gp15wma/__init__.py'>"
            ]
          },
          "metadata": {},
          "execution_count": 2
        }
      ]
    },
    {
      "cell_type": "code",
      "metadata": {
        "colab": {
          "base_uri": "https://localhost:8080/"
        },
        "id": "xWHuwQU_BVjV",
        "outputId": "16febd90-5139-43d7-95d3-79b5e278f7ac"
      },
      "source": [
        "gp15_df, gp15_intermediateanddeep, gp15_thermocline = gp15wma.download_and_load_gp15_data(\n",
        "    station_to_tc_cutoffs_url=\"https://raw.githubusercontent.com/nitrogenlab/GP15_watermassanalysis/main/station_to_tc_cutoffs.json\")"
      ],
      "execution_count": 3,
      "outputs": [
        {
          "output_type": "stream",
          "name": "stdout",
          "text": [
            "bottle flag BTLNBR_FLAG_W BTLNBR_FLAG_W\n",
            "uint8\n",
            "leg1 nans 0\n",
            "leg2 nans 0\n",
            "CTD salinity flag CTDSAL_FLAG_W CTDSAL_FLAG_W\n",
            "uint8\n",
            "leg1 nans 0\n",
            "leg2 nans 0\n",
            "bottle oxygen flag Flag_OXYGEN_D_CONC_BOTTLE_qizf9x Flag_OXYGEN_D_CONC_BOTTLE_n41f8b\n",
            "uint8\n",
            "leg1 nans 0\n",
            "leg2 nans 0\n",
            "silicate flag Flag_SILICATE_D_CONC_BOTTLE_l9fh07 Flag_SILICATE_D_CONC_BOTTLE_3fot83\n",
            "uint8\n",
            "leg1 nans 0\n",
            "leg2 nans 0\n",
            "nitrate flag Flag_NITRATE_D_CONC_BOTTLE_xhgtuv Flag_NITRATE_D_CONC_BOTTLE_bugat8\n",
            "uint8\n",
            "leg1 nans 0\n",
            "leg2 nans 0\n",
            "phosphate flag Flag_PHOSPHATE_D_CONC_BOTTLE_lof4ap Flag_PHOSPHATE_D_CONC_BOTTLE_d0rgav\n",
            "uint8\n",
            "leg1 nans 0\n",
            "leg2 nans 0\n",
            "CTD pressure CTDPRS CTDPRS\n",
            "float64\n",
            "leg1 nans 487\n",
            "leg2 nans 492\n",
            "CTD temperature CTDTMP CTDTMP\n",
            "float64\n",
            "leg1 nans 487\n",
            "leg2 nans 492\n",
            "practical_salinity CTDSAL CTDSAL\n",
            "float64\n",
            "leg1 nans 487\n",
            "leg2 nans 492\n",
            "lat LATITUDE LATITUDE\n",
            "float64\n",
            "leg1 nans 476\n",
            "leg2 nans 484\n",
            "lon LONGITUDE LONGITUDE\n",
            "float64\n",
            "leg1 nans 476\n",
            "leg2 nans 484\n",
            "stnnbr STNNBR STNNBR\n",
            "<U12\n",
            "leg1 and leg2 arrays are strings.\n",
            "geotrc_ID GEOTRC_SAMPNO GEOTRC_SAMPNO\n",
            "<U11\n",
            "leg1 and leg2 arrays are strings.\n",
            "bottom depth DEPTH DEPTH\n",
            "float64\n",
            "leg1 nans 504\n",
            "leg2 nans 492\n",
            "oxygen OXYGEN_D_CONC_BOTTLE_qizf9x OXYGEN_D_CONC_BOTTLE_n41f8b\n",
            "float64\n",
            "leg1 nans 2284\n",
            "leg2 nans 2674\n",
            "silicate SILICATE_D_CONC_BOTTLE_l9fh07 SILICATE_D_CONC_BOTTLE_3fot83\n",
            "float64\n",
            "leg1 nans 434\n",
            "leg2 nans 390\n",
            "nitrate NITRATE_D_CONC_BOTTLE_xhgtuv NITRATE_D_CONC_BOTTLE_bugat8\n",
            "float64\n",
            "leg1 nans 434\n",
            "leg2 nans 390\n",
            "phosphate PHOSPHATE_D_CONC_BOTTLE_lof4ap PHOSPHATE_D_CONC_BOTTLE_d0rgav\n",
            "float64\n",
            "leg1 nans 434\n",
            "leg2 nans 390\n",
            "Rows in gp15 datafile: 1144\n",
            "Rows without NA values: 1143\n"
          ]
        }
      ]
    },
    {
      "cell_type": "code",
      "metadata": {
        "id": "_mXy5971CNMb"
      },
      "source": [
        "interanddeep_endmember_df = gp15wma.load_interanddeep_endmember_df(\n",
        "    df_url=\"https://raw.githubusercontent.com/nitrogenlab/GP15_watermassanalysis/main/GP15_intermediateanddeep_endmemberswithsubtypes.csv\",\n",
        "    df_file_name=\"GP15_intermediateanddeep.csv\")\n"
      ],
      "execution_count": 7,
      "outputs": []
    },
    {
      "cell_type": "code",
      "metadata": {
        "colab": {
          "base_uri": "https://localhost:8080/",
          "height": 887
        },
        "id": "kpBN9rSPCgMG",
        "outputId": "3f9b6328-ef1b-43e6-b91f-195f271491e3"
      },
      "source": [
        "from gp15wma.sensitivity import BaseSensitivityAnalysis, OmpaArguments\n",
        "import numpy as np\n",
        "import json\n",
        "\n",
        "#Prepare the varying OMPA arguments\n",
        "\n",
        "rng = np.random.RandomState(1234) #instantiate random number generator with fixed seed\n",
        "num_samples = 20\n",
        "base_weighting = gp15wma.settingdefaults.PARAM_WEIGHTINGS\n",
        "\n",
        "#sample varying parameter weightings\n",
        "sampled_weightings = []\n",
        "for i in range(num_samples):\n",
        "    rand_weighting = dict([\n",
        "        (key, rng.uniform(value*0.8, value*1.2))\n",
        "        for key,value in base_weighting.items()\n",
        "    ])\n",
        "    sampled_weightings.append(rand_weighting)\n",
        "\n",
        "#write out the various sampled weightings\n",
        "open(\"sampled_weightings.json\", \"w\").write(\n",
        "    json.dumps(sampled_weightings, indent=4))\n",
        "\n",
        "varying_arguments_list = [OmpaArguments(\n",
        "        constructor_arguments={\"param_weightings\": rand_weighting},\n",
        "        solve_arguments={}) for weighting in sampled_weightings]\n",
        "\n",
        "intermediate_and_deep_weighting_sens_analysis = BaseSensitivityAnalysis(\n",
        "    static_ompa_arguments = OmpaArguments(\n",
        "        constructor_arguments={\n",
        "          \"obs_df\": gp15_intermediateanddeep,\n",
        "          \"endmembername_to_usagepenaltyfunc\": gp15wma.settingdefaults.USAGE_PENALTY,\n",
        "          \"param_names\": gp15wma.settingdefaults.PARAM_NAMES,\n",
        "          \"convertedparam_groups\": gp15wma.settingdefaults.CONVERTEDPARAM_GROUPS\n",
        "          },\n",
        "        solve_arguments={\n",
        "            \"endmember_df\": interanddeep_endmember_df,\n",
        "            \"endmember_name_column\": \"watermass_name\",\n",
        "            \"batch_size\": 100\n",
        "        }\n",
        "    ))\n",
        "\n",
        "!mkdir param_weightings_sensitivity\n",
        "ompa_solns = intermediate_and_deep_weighting_sens_analysis.run(\n",
        "    varying_arguments_list = varying_arguments_list,\n",
        "    outdir=\"param_weightings_sensitivity\",\n",
        "    export_settings={\"orig_cols_to_include\":[\n",
        "         \"lat\", \"lon\", \"Depth\", \"stnnbr\", \"geotrc_ID\"]})"
      ],
      "execution_count": 8,
      "outputs": [
        {
          "output_type": "stream",
          "name": "stdout",
          "text": [
            "mkdir: cannot create directory ‘param_weightings_sensitivity’: File exists\n",
            "On varying argument 0 out of 20\n",
            "varying arguments: OMPAArguments(constructor_arguments={'param_weightings': {'conservative_temp': 50.526633616124734, 'absolute_salinity': 67.46596781384733, 'silicate': 3.3314168678086586, 'nitrate': 5.564955985200404, 'phosphate': 5.523207828614988, 'oxygen': 1.1657612453077295, 'NO': 1.063449112776969, 'PO': 0.5136735163145865}}, solve_arguments={})\n",
            "Adding penalty for ENPCW_0\n",
            "Adding penalty for ENPCW_1\n",
            "Adding penalty for SPCW_0\n",
            "Adding penalty for SPCW_1\n",
            "Adding penalty for PSUW_0\n",
            "Adding penalty for PSUW_1\n",
            "Adding penalty for ESSW_0\n",
            "Adding penalty for ESSW_1\n",
            "Adding penalty for EqIW_0\n",
            "Adding penalty for EqIW_1\n",
            "Adding penalty for LCDW_0\n",
            "Adding penalty for LCDW_1\n",
            "Adding penalty for AAIW_0\n",
            "Adding penalty for AAIW_1\n",
            "Adding penalty for NPIW_0\n",
            "Adding penalty for NPIW_1\n",
            "Adding penalty for NPIW_2\n",
            "Adding penalty for UCDW_0\n",
            "Adding penalty for AABW_0\n",
            "Endmember-idx mapping is\n",
            " OrderedDict([('AABW', [0]), ('AAIW', [1, 2]), ('ENPCW', [3, 4]), ('ESSW', [5, 6]), ('EqIW', [7, 8]), ('LCDW', [9, 10]), ('NPIW', [11, 12, 13]), ('PDW', [14, 15, 16]), ('PSUW', [17, 18]), ('SPCW', [19, 20]), ('UCDW', [21])])\n",
            "params to use: ['conservative_temp', 'absolute_salinity', 'silicate', 'nitrate', 'phosphate', 'oxygen']\n",
            "param weighting: [50.52663362 67.46596781  3.33141687  5.56495599  5.52320783  1.16576125]\n",
            "Matrix A:\n",
            "Trying convertedvariable sign constraint: [1 1]\n",
            "On example 0 to 100 out of 682\n"
          ]
        },
        {
          "output_type": "error",
          "ename": "TypeError",
          "evalue": "ignored",
          "traceback": [
            "\u001b[0;31m---------------------------------------------------------------------------\u001b[0m",
            "\u001b[0;31mTypeError\u001b[0m                                 Traceback (most recent call last)",
            "\u001b[0;32m<ipython-input-8-ad959b2eaccc>\u001b[0m in \u001b[0;36m<module>\u001b[0;34m()\u001b[0m\n\u001b[1;32m     46\u001b[0m     \u001b[0moutdir\u001b[0m\u001b[0;34m=\u001b[0m\u001b[0;34m\"param_weightings_sensitivity\"\u001b[0m\u001b[0;34m,\u001b[0m\u001b[0;34m\u001b[0m\u001b[0;34m\u001b[0m\u001b[0m\n\u001b[1;32m     47\u001b[0m     export_settings={\"orig_cols_to_include\":[\n\u001b[0;32m---> 48\u001b[0;31m          \"lat\", \"lon\", \"Depth\", \"stnnbr\", \"geotrc_ID\"]})\n\u001b[0m",
            "\u001b[0;32m/usr/local/lib/python3.7/dist-packages/gp15wma/sensitivity.py\u001b[0m in \u001b[0;36mrun\u001b[0;34m(self, varying_arguments_list, outdir, export_settings)\u001b[0m\n\u001b[1;32m     26\u001b[0m           \u001b[0mall_solve_arguments\u001b[0m\u001b[0;34m.\u001b[0m\u001b[0mupdate\u001b[0m\u001b[0;34m(\u001b[0m\u001b[0mvarying_arguments\u001b[0m\u001b[0;34m.\u001b[0m\u001b[0msolve_arguments\u001b[0m\u001b[0;34m)\u001b[0m\u001b[0;34m\u001b[0m\u001b[0;34m\u001b[0m\u001b[0m\n\u001b[1;32m     27\u001b[0m           ompa_soln = OMPAProblem(**all_constructor_arguments).solve(\n\u001b[0;32m---> 28\u001b[0;31m               **all_solve_arguments)\n\u001b[0m\u001b[1;32m     29\u001b[0m           \u001b[0;32mif\u001b[0m \u001b[0;34m(\u001b[0m\u001b[0moutdir\u001b[0m \u001b[0;32mis\u001b[0m \u001b[0;32mnot\u001b[0m \u001b[0;32mNone\u001b[0m\u001b[0;34m)\u001b[0m\u001b[0;34m:\u001b[0m\u001b[0;34m\u001b[0m\u001b[0;34m\u001b[0m\u001b[0m\n\u001b[1;32m     30\u001b[0m               ompa_soln.export_to_csv(\n",
            "\u001b[0;32m/usr/local/lib/python3.7/dist-packages/pyompa/ompacore.py\u001b[0m in \u001b[0;36msolve\u001b[0;34m(self, endmember_df, endmember_name_column, batch_size, max_iter, verbose)\u001b[0m\n\u001b[1;32m    903\u001b[0m                     \u001b[0mbatch_size\u001b[0m\u001b[0;34m=\u001b[0m\u001b[0mbatch_size\u001b[0m\u001b[0;34m,\u001b[0m\u001b[0;34m\u001b[0m\u001b[0;34m\u001b[0m\u001b[0m\n\u001b[1;32m    904\u001b[0m                     \u001b[0mmax_iter\u001b[0m\u001b[0;34m=\u001b[0m\u001b[0mmax_iter\u001b[0m\u001b[0;34m,\u001b[0m\u001b[0;34m\u001b[0m\u001b[0;34m\u001b[0m\u001b[0m\n\u001b[0;32m--> 905\u001b[0;31m                     verbose=verbose)\n\u001b[0m\u001b[1;32m    906\u001b[0m                 perobs_weighted_resid_sq_for_signcombo.append(\n\u001b[1;32m    907\u001b[0m                     perobs_weighted_resid_sq_positiveconversionsign)\n",
            "\u001b[0;32m/usr/local/lib/python3.7/dist-packages/pyompa/ompacore.py\u001b[0m in \u001b[0;36mbatch_core_solve\u001b[0;34m(self, A, b, num_converted_variables, pairs_matrix, endmember_usagepenalty, conversion_sign_constraints, smoothness_lambda, batch_size, max_iter, verbose)\u001b[0m\n\u001b[1;32m    987\u001b[0m                 \u001b[0mconversion_sign_constraints\u001b[0m\u001b[0;34m=\u001b[0m\u001b[0;34m\u001b[0m\u001b[0;34m\u001b[0m\u001b[0m\n\u001b[1;32m    988\u001b[0m                  \u001b[0mconversion_sign_constraints\u001b[0m\u001b[0;34m[\u001b[0m\u001b[0mi\u001b[0m\u001b[0;34m:\u001b[0m\u001b[0mi\u001b[0m\u001b[0;34m+\u001b[0m\u001b[0mbatch_size\u001b[0m\u001b[0;34m]\u001b[0m\u001b[0;34m,\u001b[0m\u001b[0;34m\u001b[0m\u001b[0;34m\u001b[0m\u001b[0m\n\u001b[0;32m--> 989\u001b[0;31m                 smoothness_lambda=None, max_iter=max_iter, verbose=verbose)\n\u001b[0m\u001b[1;32m    990\u001b[0m             \u001b[0mfixed_x\u001b[0m\u001b[0;34m.\u001b[0m\u001b[0mappend\u001b[0m\u001b[0;34m(\u001b[0m\u001b[0mfixed_x_batch\u001b[0m\u001b[0;34m)\u001b[0m\u001b[0;34m\u001b[0m\u001b[0;34m\u001b[0m\u001b[0m\n\u001b[1;32m    991\u001b[0m             \u001b[0mendmember_fractions\u001b[0m\u001b[0;34m.\u001b[0m\u001b[0mappend\u001b[0m\u001b[0;34m(\u001b[0m\u001b[0mendmember_fractions_batch\u001b[0m\u001b[0;34m)\u001b[0m\u001b[0;34m\u001b[0m\u001b[0;34m\u001b[0m\u001b[0m\n",
            "\u001b[0;31mTypeError\u001b[0m: core_solve() missing 1 required positional argument: 'endmember_idealvalsmat'"
          ]
        }
      ]
    },
    {
      "cell_type": "code",
      "metadata": {
        "id": "NLaXcIZeONSC"
      },
      "source": [
        "from gp15wma.sensitivity import get_mean_and_stdev_skeletons\n",
        "\n",
        "mean_skeleton, std_skeleton = get_mean_and_stdev_skeletons(ompa_solns=ompa_solns)"
      ],
      "execution_count": null,
      "outputs": []
    },
    {
      "cell_type": "code",
      "metadata": {
        "id": "jow84i6xUhFS"
      },
      "source": [
        "#plot the solutions\n",
        "print(\"mean\")\n",
        "pyompa.plot_ompasoln_endmember_fractions(ompa_soln=mean_skeleton,\n",
        "                                  xaxis_colname=\"lat\",\n",
        "                                  yaxis_colname=\"Depth\",\n",
        "                                  group_endmembers=True)\n",
        "print(\"std\")\n",
        "pyompa.plot_ompasoln_endmember_fractions(ompa_soln=std_skeleton,\n",
        "                                  xaxis_colname=\"lat\",\n",
        "                                  yaxis_colname=\"Depth\",\n",
        "                                  group_endmembers=True)\n"
      ],
      "execution_count": null,
      "outputs": []
    },
    {
      "cell_type": "code",
      "metadata": {
        "id": "YGJndXQTVB-b"
      },
      "source": [
        "print(\"mean\")\n",
        "pyompa.plot_ompasoln_residuals(ompa_soln=mean_skeleton,\n",
        "                                  xaxis_colname=\"lat\",\n",
        "                                  yaxis_colname=\"Depth\")\n",
        "print(\"std\")\n",
        "pyompa.plot_ompasoln_residuals(ompa_soln=std_skeleton,\n",
        "                                  xaxis_colname=\"lat\",\n",
        "                                  yaxis_colname=\"Depth\")"
      ],
      "execution_count": null,
      "outputs": []
    },
    {
      "cell_type": "code",
      "metadata": {
        "id": "WZE8-DoOT5Sj"
      },
      "source": [
        ""
      ],
      "execution_count": null,
      "outputs": []
    }
  ]
}