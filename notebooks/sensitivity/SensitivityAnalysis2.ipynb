{
  "nbformat": 4,
  "nbformat_minor": 0,
  "metadata": {
    "colab": {
      "name": "SensitivityAnalysis2",
      "provenance": [],
      "machine_shape": "hm",
      "authorship_tag": "ABX9TyP0R5P32xzHveSD2RgA2DIY",
      "include_colab_link": true
    },
    "kernelspec": {
      "name": "python3",
      "display_name": "Python 3"
    },
    "language_info": {
      "name": "python"
    }
  },
  "cells": [
    {
      "cell_type": "markdown",
      "metadata": {
        "id": "view-in-github",
        "colab_type": "text"
      },
      "source": [
        "<a href=\"https://colab.research.google.com/github/nitrogenlab/GP15_watermassanalysis/blob/main/notebooks/sensitivity/SensitivityAnalysis2.ipynb\" target=\"_parent\"><img src=\"https://colab.research.google.com/assets/colab-badge.svg\" alt=\"Open In Colab\"/></a>"
      ]
    },
    {
      "cell_type": "code",
      "metadata": {
        "colab": {
          "base_uri": "https://localhost:8080/"
        },
        "id": "JWAn26Ui_14q",
        "outputId": "666334dc-d3e7-48b9-8e30-3a7c870a1b1a"
      },
      "source": [
        "#Based on the original sensitivity analysis notebook at\n",
        "# https://github.com/nitrogenlab/GP15_watermassanalysis/blob/5d0420ae4b8a4689a8cee98e36876e8ed2cb8c68/GP15analysis_sensitivityanalysis.ipynb\n",
        "\n",
        "#Install pyompa\n",
        "!pip uninstall -y pyompa\n",
        "%cd /content/\n",
        "!rm -rf pyompa\n",
        "!git clone https://github.com/nitrogenlab/pyompa\n",
        "%cd /content/pyompa\n",
        "!git checkout dev\n",
        "!git log -1\n",
        "!pip install .\n",
        "%cd /content/\n",
        "\n",
        "\n",
        "%reload_ext autoreload\n",
        "%autoreload 2\n",
        "from importlib import reload\n",
        "import pyompa\n",
        "reload(pyompa)"
      ],
      "execution_count": 1,
      "outputs": [
        {
          "output_type": "stream",
          "name": "stdout",
          "text": [
            "\u001b[33mWARNING: Skipping pyompa as it is not installed.\u001b[0m\n",
            "/content\n",
            "Cloning into 'pyompa'...\n",
            "remote: Enumerating objects: 1138, done.\u001b[K\n",
            "remote: Counting objects: 100% (446/446), done.\u001b[K\n",
            "remote: Compressing objects: 100% (297/297), done.\u001b[K\n",
            "remote: Total 1138 (delta 310), reused 259 (delta 146), pack-reused 692\u001b[K\n",
            "Receiving objects: 100% (1138/1138), 14.91 MiB | 40.17 MiB/s, done.\n",
            "Resolving deltas: 100% (796/796), done.\n",
            "/content/pyompa\n",
            "Branch 'dev' set up to track remote branch 'dev' from 'origin'.\n",
            "Switched to a new branch 'dev'\n",
            "\u001b[33mcommit a2a3dc30be711b9f84d74f00e844ad1473f05216\u001b[m\u001b[33m (\u001b[m\u001b[1;36mHEAD -> \u001b[m\u001b[1;32mdev\u001b[m\u001b[33m, \u001b[m\u001b[1;31morigin/dev\u001b[m\u001b[33m)\u001b[m\n",
            "Author: Av Shrikumar <avanti.shrikumar@gmail.com>\n",
            "Date:   Thu Sep 23 15:18:03 2021 -0500\n",
            "\n",
            "    bugfix\n",
            "Processing /content/pyompa\n",
            "\u001b[33m  DEPRECATION: A future pip version will change local packages to be built in-place without first copying to a temporary directory. We recommend you use --use-feature=in-tree-build to test your packages with this new behavior before it becomes the default.\n",
            "   pip 21.3 will remove support for this functionality. You can find discussion regarding this at https://github.com/pypa/pip/issues/7555.\u001b[0m\n",
            "Requirement already satisfied: numpy in /usr/local/lib/python3.7/dist-packages (from pyompa==0.4.0.0) (1.19.5)\n",
            "Requirement already satisfied: pandas in /usr/local/lib/python3.7/dist-packages (from pyompa==0.4.0.0) (1.1.5)\n",
            "Requirement already satisfied: cvxpy in /usr/local/lib/python3.7/dist-packages (from pyompa==0.4.0.0) (1.0.31)\n",
            "Requirement already satisfied: scipy in /usr/local/lib/python3.7/dist-packages (from pyompa==0.4.0.0) (1.4.1)\n",
            "Requirement already satisfied: toml in /usr/local/lib/python3.7/dist-packages (from pyompa==0.4.0.0) (0.10.2)\n",
            "Requirement already satisfied: scs>=1.1.3 in /usr/local/lib/python3.7/dist-packages (from cvxpy->pyompa==0.4.0.0) (2.1.4)\n",
            "Requirement already satisfied: ecos>=2 in /usr/local/lib/python3.7/dist-packages (from cvxpy->pyompa==0.4.0.0) (2.0.7.post1)\n",
            "Requirement already satisfied: multiprocess in /usr/local/lib/python3.7/dist-packages (from cvxpy->pyompa==0.4.0.0) (0.70.12.2)\n",
            "Requirement already satisfied: osqp>=0.4.1 in /usr/local/lib/python3.7/dist-packages (from cvxpy->pyompa==0.4.0.0) (0.6.2.post0)\n",
            "Requirement already satisfied: qdldl in /usr/local/lib/python3.7/dist-packages (from osqp>=0.4.1->cvxpy->pyompa==0.4.0.0) (0.1.5.post0)\n",
            "Requirement already satisfied: dill>=0.3.4 in /usr/local/lib/python3.7/dist-packages (from multiprocess->cvxpy->pyompa==0.4.0.0) (0.3.4)\n",
            "Requirement already satisfied: python-dateutil>=2.7.3 in /usr/local/lib/python3.7/dist-packages (from pandas->pyompa==0.4.0.0) (2.8.2)\n",
            "Requirement already satisfied: pytz>=2017.2 in /usr/local/lib/python3.7/dist-packages (from pandas->pyompa==0.4.0.0) (2018.9)\n",
            "Requirement already satisfied: six>=1.5 in /usr/local/lib/python3.7/dist-packages (from python-dateutil>=2.7.3->pandas->pyompa==0.4.0.0) (1.15.0)\n",
            "Building wheels for collected packages: pyompa\n",
            "  Building wheel for pyompa (setup.py) ... \u001b[?25l\u001b[?25hdone\n",
            "  Created wheel for pyompa: filename=pyompa-0.4.0.0-py3-none-any.whl size=28029 sha256=0a977f18bdeb9aea685598aa689cfbf5edd48d35d9259bf87166dcf40bd5fb8d\n",
            "  Stored in directory: /tmp/pip-ephem-wheel-cache-utrq12qa/wheels/a5/80/3a/988c250164e008ea701260bb1371236c188ac1cde414fad34c\n",
            "Successfully built pyompa\n",
            "Installing collected packages: pyompa\n",
            "Successfully installed pyompa-0.4.0.0\n",
            "/content\n"
          ]
        },
        {
          "output_type": "execute_result",
          "data": {
            "text/plain": [
              "<module 'pyompa' from '/usr/local/lib/python3.7/dist-packages/pyompa/__init__.py'>"
            ]
          },
          "metadata": {},
          "execution_count": 1
        }
      ]
    },
    {
      "cell_type": "code",
      "metadata": {
        "colab": {
          "base_uri": "https://localhost:8080/"
        },
        "id": "BkjI-PQXA1Vt",
        "outputId": "17266131-3b7d-481e-be31-b61b961647cc"
      },
      "source": [
        "#Install gp15wmascripts\n",
        "!pip uninstall -y gp15wma\n",
        "%cd /content/\n",
        "!rm -rf gp15wmascripts\n",
        "!git clone https://github.com/nitrogenlab/gp15wmascripts\n",
        "%cd /content/gp15wmascripts\n",
        "!git checkout main\n",
        "!git log -1\n",
        "!pip install .\n",
        "%cd /content/\n",
        "\n",
        "%reload_ext autoreload\n",
        "%autoreload 2\n",
        "from importlib import reload\n",
        "import gp15wma\n",
        "reload(gp15wma)"
      ],
      "execution_count": 2,
      "outputs": [
        {
          "output_type": "stream",
          "name": "stdout",
          "text": [
            "\u001b[33mWARNING: Skipping gp15wma as it is not installed.\u001b[0m\n",
            "/content\n",
            "Cloning into 'gp15wmascripts'...\n",
            "remote: Enumerating objects: 79, done.\u001b[K\n",
            "remote: Counting objects: 100% (79/79), done.\u001b[K\n",
            "remote: Compressing objects: 100% (60/60), done.\u001b[K\n",
            "remote: Total 79 (delta 39), reused 53 (delta 18), pack-reused 0\u001b[K\n",
            "Unpacking objects: 100% (79/79), done.\n",
            "/content/gp15wmascripts\n",
            "Already on 'main'\n",
            "Your branch is up to date with 'origin/main'.\n",
            "\u001b[33mcommit bc6117de8554247c338621bc6881f5a4f0edb500\u001b[m\u001b[33m (\u001b[m\u001b[1;36mHEAD -> \u001b[m\u001b[1;32mmain\u001b[m\u001b[33m, \u001b[m\u001b[1;31morigin/main\u001b[m\u001b[33m, \u001b[m\u001b[1;31morigin/HEAD\u001b[m\u001b[33m)\u001b[m\n",
            "Author: Av Shrikumar <avanti.shrikumar@gmail.com>\n",
            "Date:   Thu Sep 30 13:29:36 2021 -0700\n",
            "\n",
            "    import fix\n",
            "Processing /content/gp15wmascripts\n",
            "\u001b[33m  DEPRECATION: A future pip version will change local packages to be built in-place without first copying to a temporary directory. We recommend you use --use-feature=in-tree-build to test your packages with this new behavior before it becomes the default.\n",
            "   pip 21.3 will remove support for this functionality. You can find discussion regarding this at https://github.com/pypa/pip/issues/7555.\u001b[0m\n",
            "Collecting gsw\n",
            "  Downloading gsw-3.4.0-cp37-cp37m-manylinux2010_x86_64.whl (2.4 MB)\n",
            "\u001b[K     |████████████████████████████████| 2.4 MB 5.0 MB/s \n",
            "\u001b[?25hRequirement already satisfied: pyompa in /usr/local/lib/python3.7/dist-packages (from gp15wmascripts==0.1.0.0) (0.4.0.0)\n",
            "Requirement already satisfied: numpy in /usr/local/lib/python3.7/dist-packages (from gsw->gp15wmascripts==0.1.0.0) (1.19.5)\n",
            "Requirement already satisfied: scipy in /usr/local/lib/python3.7/dist-packages (from pyompa->gp15wmascripts==0.1.0.0) (1.4.1)\n",
            "Requirement already satisfied: pandas in /usr/local/lib/python3.7/dist-packages (from pyompa->gp15wmascripts==0.1.0.0) (1.1.5)\n",
            "Requirement already satisfied: toml in /usr/local/lib/python3.7/dist-packages (from pyompa->gp15wmascripts==0.1.0.0) (0.10.2)\n",
            "Requirement already satisfied: cvxpy in /usr/local/lib/python3.7/dist-packages (from pyompa->gp15wmascripts==0.1.0.0) (1.0.31)\n",
            "Requirement already satisfied: osqp>=0.4.1 in /usr/local/lib/python3.7/dist-packages (from cvxpy->pyompa->gp15wmascripts==0.1.0.0) (0.6.2.post0)\n",
            "Requirement already satisfied: ecos>=2 in /usr/local/lib/python3.7/dist-packages (from cvxpy->pyompa->gp15wmascripts==0.1.0.0) (2.0.7.post1)\n",
            "Requirement already satisfied: scs>=1.1.3 in /usr/local/lib/python3.7/dist-packages (from cvxpy->pyompa->gp15wmascripts==0.1.0.0) (2.1.4)\n",
            "Requirement already satisfied: multiprocess in /usr/local/lib/python3.7/dist-packages (from cvxpy->pyompa->gp15wmascripts==0.1.0.0) (0.70.12.2)\n",
            "Requirement already satisfied: qdldl in /usr/local/lib/python3.7/dist-packages (from osqp>=0.4.1->cvxpy->pyompa->gp15wmascripts==0.1.0.0) (0.1.5.post0)\n",
            "Requirement already satisfied: dill>=0.3.4 in /usr/local/lib/python3.7/dist-packages (from multiprocess->cvxpy->pyompa->gp15wmascripts==0.1.0.0) (0.3.4)\n",
            "Requirement already satisfied: pytz>=2017.2 in /usr/local/lib/python3.7/dist-packages (from pandas->pyompa->gp15wmascripts==0.1.0.0) (2018.9)\n",
            "Requirement already satisfied: python-dateutil>=2.7.3 in /usr/local/lib/python3.7/dist-packages (from pandas->pyompa->gp15wmascripts==0.1.0.0) (2.8.2)\n",
            "Requirement already satisfied: six>=1.5 in /usr/local/lib/python3.7/dist-packages (from python-dateutil>=2.7.3->pandas->pyompa->gp15wmascripts==0.1.0.0) (1.15.0)\n",
            "Building wheels for collected packages: gp15wmascripts\n",
            "  Building wheel for gp15wmascripts (setup.py) ... \u001b[?25l\u001b[?25hdone\n",
            "  Created wheel for gp15wmascripts: filename=gp15wmascripts-0.1.0.0-py3-none-any.whl size=5447 sha256=7ee26597fdff6b68c3ca391ed381a61cc70d5cfa834a2ad3d5e8c3e72a488877\n",
            "  Stored in directory: /tmp/pip-ephem-wheel-cache-tocgdhof/wheels/25/21/b6/8ff0328834cf7b15151209f457f1ab1328542a0cc5a0aa35ff\n",
            "Successfully built gp15wmascripts\n",
            "Installing collected packages: gsw, gp15wmascripts\n",
            "Successfully installed gp15wmascripts-0.1.0.0 gsw-3.4.0\n",
            "/content\n"
          ]
        },
        {
          "output_type": "execute_result",
          "data": {
            "text/plain": [
              "<module 'gp15wma' from '/usr/local/lib/python3.7/dist-packages/gp15wma/__init__.py'>"
            ]
          },
          "metadata": {},
          "execution_count": 2
        }
      ]
    },
    {
      "cell_type": "code",
      "metadata": {
        "colab": {
          "base_uri": "https://localhost:8080/"
        },
        "id": "xWHuwQU_BVjV",
        "outputId": "b0879c27-f6e3-4f76-cc98-8c9ded1ee477"
      },
      "source": [
        "gp15_df, gp15_intermediateanddeep, gp15_thermocline = gp15wma.download_and_load_gp15_data(\n",
        "    station_to_tc_cutoffs_url=\"https://raw.githubusercontent.com/nitrogenlab/GP15_watermassanalysis/main/station_to_tc_cutoffs.json\")"
      ],
      "execution_count": 3,
      "outputs": [
        {
          "output_type": "stream",
          "name": "stdout",
          "text": [
            "Rows in gp15 datafile: 1125\n",
            "Rows without NA values: 1122\n"
          ]
        }
      ]
    },
    {
      "cell_type": "code",
      "metadata": {
        "id": "_mXy5971CNMb"
      },
      "source": [
        "interanddeep_endmember_df = gp15wma.load_interanddeep_endmember_df(\n",
        "    df_url=\"https://raw.githubusercontent.com/nitrogenlab/GP15_watermassanalysis/main/GP15_mode_waters_intermediateanddeep_endmemberswithsubtypes.csv\",\n",
        "    df_file_name=\"GP15_intermediateanddeep.csv\")\n"
      ],
      "execution_count": 4,
      "outputs": []
    },
    {
      "cell_type": "code",
      "metadata": {
        "colab": {
          "base_uri": "https://localhost:8080/"
        },
        "id": "kpBN9rSPCgMG",
        "outputId": "402bb97a-a9e7-4069-e617-3343c02ae2c8"
      },
      "source": [
        "from gp15wma.sensitivity import BaseSensitivityAnalysis, OmpaArguments\n",
        "import numpy as np\n",
        "import json\n",
        "\n",
        "#Prepare the varying OMPA arguments\n",
        "\n",
        "rng = np.random.RandomState(1234) #instantiate random number generator with fixed seed\n",
        "num_samples = 20\n",
        "base_weighting = gp15wma.settingdefaults.PARAM_WEIGHTINGS\n",
        "\n",
        "#sample varying parameter weightings\n",
        "sampled_weightings = []\n",
        "for i in range(num_samples):\n",
        "    rand_weighting = dict([\n",
        "        (key, rng.uniform(value*0.8, value*1.2))\n",
        "        for key,value in base_weighting.items()\n",
        "    ])\n",
        "    sampled_weightings.append(rand_weighting)\n",
        "\n",
        "#write out the various sampled weightings\n",
        "open(\"sampled_weightings.json\", \"w\").write(\n",
        "    json.dumps(sampled_weightings, indent=4))\n",
        "\n",
        "varying_arguments_list = [OmpaArguments(\n",
        "        constructor_arguments={\"param_weightings\": rand_weighting},\n",
        "        solve_arguments={}) for weighting in sampled_weightings]\n",
        "\n",
        "intermediate_and_deep_weighting_sens_analysis = BaseSensitivityAnalysis(\n",
        "    static_ompa_arguments = OmpaArguments(\n",
        "        constructor_arguments={\n",
        "          \"obs_df\": gp15_intermediateanddeep,\n",
        "          \"endmembername_to_usagepenaltyfunc\": gp15wma.settingdefaults.USAGE_PENALTY,\n",
        "          \"param_names\": gp15wma.settingdefaults.PARAM_NAMES,\n",
        "          \"convertedparam_groups\": gp15wma.settingdefaults.CONVERTEDPARAM_GROUPS\n",
        "          },\n",
        "        solve_arguments={\n",
        "            \"endmember_df\": interanddeep_endmember_df,\n",
        "            \"endmember_name_column\": \"watermass_name\",\n",
        "            \"batch_size\": 100\n",
        "        }\n",
        "    ))\n",
        "\n",
        "!mkdir param_weightings_sensitivity\n",
        "ompa_solns = intermediate_and_deep_weighting_sens_analysis.run(\n",
        "    varying_arguments_list = varying_arguments_list,\n",
        "    outdir=\"param_weightings_sensitivity\",\n",
        "    export_settings={\"orig_cols_to_include\":[\n",
        "         \"lat\", \"lon\", \"Depth\", \"stnnbr\", \"geotrc_ID\"]})"
      ],
      "execution_count": null,
      "outputs": [
        {
          "output_type": "stream",
          "name": "stdout",
          "text": [
            "On varying argument 0 out of 20\n",
            "varying arguments: OMPAArguments(constructor_arguments={'param_weightings': {'conservative_temp': 50.526633616124734, 'absolute_salinity': 67.46596781384733, 'silicate': 3.3314168678086586, 'nitrate': 5.564955985200404, 'phosphate': 5.523207828614988, 'oxygen': 1.1657612453077295, 'NO': 1.063449112776969, 'PO': 0.5136735163145865}}, solve_arguments={})\n",
            "Adding penalty for ENPCW_0\n",
            "Adding penalty for ENPCW_1\n",
            "Adding penalty for SPCW_0\n",
            "Adding penalty for SPCW_1\n",
            "Adding penalty for PSUW_0\n",
            "Adding penalty for PSUW_1\n",
            "Adding penalty for ESSW_0\n",
            "Adding penalty for ESSW_1\n",
            "Adding penalty for EqIW_0\n",
            "Adding penalty for EqIW_1\n",
            "Adding penalty for LCDW_0\n",
            "Adding penalty for LCDW_1\n",
            "Adding penalty for PDW_0\n",
            "Adding penalty for PDW_1\n",
            "Adding penalty for AAIW_0\n",
            "Adding penalty for AAIW_1\n",
            "Adding penalty for UCDW_0\n",
            "Adding penalty for AABW_0\n",
            "Endmember-idx mapping is\n",
            " OrderedDict([('AABW', [0]), ('AAIW', [1, 2]), ('DtW', [3, 4]), ('ENPCW', [5, 6]), ('ESSW', [7, 8]), ('EqIW', [9, 10]), ('LCDW', [11, 12]), ('NPCMW', [13, 14]), ('NPESTMW', [15, 16]), ('NPIW', [17, 18, 19]), ('NPSTMW', [20, 21]), ('PDW', [22, 23]), ('PSUW', [24, 25]), ('SPCW', [26, 27]), ('SPESTMW', [28, 29]), ('UCDW', [30])])\n",
            "params to use: ['conservative_temp', 'absolute_salinity', 'silicate', 'nitrate', 'phosphate', 'oxygen']\n",
            "param weighting: [50.52663362 67.46596781  3.33141687  5.56495599  5.52320783  1.16576125]\n",
            "Matrix A:\n",
            "Trying convertedvariable sign constraint: [1 1]\n",
            "On example 0 to 100 out of 673\n",
            "status: optimal\n",
            "optimal value 737.7720601394359\n",
            "Original weighted sum squares: 716.546522285646\n",
            "Post fix weighted sum squared: 717.0754612768293\n",
            "On example 100 to 200 out of 673\n",
            "status: optimal\n",
            "optimal value 5373.8209183022245\n",
            "Original weighted sum squares: 5163.097644356854\n",
            "Post fix weighted sum squared: 5164.402872092816\n",
            "On example 200 to 300 out of 673\n",
            "status: optimal\n",
            "optimal value 2024.7337440668991\n",
            "Original weighted sum squares: 1814.3969315772076\n",
            "Post fix weighted sum squared: 1814.4934388623667\n",
            "On example 300 to 400 out of 673\n",
            "status: optimal\n",
            "optimal value 1450.270619032524\n",
            "Original weighted sum squares: 1373.205326297053\n",
            "Post fix weighted sum squared: 1373.205331218636\n",
            "On example 400 to 500 out of 673\n",
            "status: optimal\n",
            "optimal value 37.33105358299079\n",
            "Original weighted sum squares: 23.10759629240021\n",
            "Post fix weighted sum squared: 23.107607457887585\n",
            "On example 500 to 600 out of 673\n",
            "status: optimal\n",
            "optimal value 119.90132718536316\n",
            "Original weighted sum squares: 108.8441738941035\n",
            "Post fix weighted sum squared: 108.84420008367198\n",
            "On example 600 to 700 out of 673\n",
            "status: optimal\n",
            "optimal value 106.29296334488313\n",
            "Original weighted sum squares: 71.10493644788784\n",
            "Post fix weighted sum squared: 71.12213895758771\n",
            "Trying convertedvariable sign constraint: [-1 -1]\n",
            "On example 0 to 100 out of 673\n",
            "status: optimal\n",
            "optimal value 79012.01493477968\n",
            "Original weighted sum squares: 75936.30551033637\n",
            "Post fix weighted sum squared: 75936.30562876059\n",
            "On example 100 to 200 out of 673\n",
            "status: optimal\n",
            "optimal value 27824.2286492219\n",
            "Original weighted sum squares: 26232.05104254755\n",
            "Post fix weighted sum squared: 26232.051125943595\n",
            "On example 200 to 300 out of 673\n",
            "status: optimal\n",
            "optimal value 19231.7941521702\n",
            "Original weighted sum squares: 17200.326392100145\n",
            "Post fix weighted sum squared: 17200.326413168194\n",
            "On example 300 to 400 out of 673\n",
            "status: optimal\n",
            "optimal value 6561.067148727262\n",
            "Original weighted sum squares: 6534.570639652839\n",
            "Post fix weighted sum squared: 6534.570646540969\n",
            "On example 400 to 500 out of 673\n",
            "status: optimal\n",
            "optimal value 1342.6154740663717\n",
            "Original weighted sum squares: 1292.7414298169674\n",
            "Post fix weighted sum squared: 1293.030646576622\n",
            "On example 500 to 600 out of 673\n",
            "status: optimal\n",
            "optimal value 11182.920234070585\n",
            "Original weighted sum squares: 11169.71876087915\n",
            "Post fix weighted sum squared: 11170.022007104859\n",
            "On example 600 to 700 out of 673\n",
            "status: optimal\n",
            "optimal value 980.3758634444413\n",
            "Original weighted sum squares: 949.9129449258868\n",
            "Post fix weighted sum squared: 949.9129458303166\n",
            "On example 0 to 100 out of 673\n",
            "status: optimal\n",
            "optimal value 694.46973626329\n",
            "Original weighted sum squares: 674.1206079846874\n",
            "Post fix weighted sum squared: 674.5450360352539\n",
            "On example 100 to 200 out of 673\n",
            "status: optimal\n",
            "optimal value 4526.26288352104\n",
            "Original weighted sum squares: 4327.050665553712\n",
            "Post fix weighted sum squared: 4327.194382465286\n",
            "On example 200 to 300 out of 673\n",
            "status: optimal\n",
            "optimal value 1913.17629603819\n",
            "Original weighted sum squares: 1678.2943981571834\n",
            "Post fix weighted sum squared: 1678.5661529206047\n",
            "On example 300 to 400 out of 673\n",
            "status: optimal\n",
            "optimal value 1450.270619032524\n",
            "Original weighted sum squares: 1373.205326297053\n",
            "Post fix weighted sum squared: 1373.205331218636\n",
            "On example 400 to 500 out of 673\n"
          ]
        }
      ]
    },
    {
      "cell_type": "code",
      "metadata": {
        "id": "NLaXcIZeONSC"
      },
      "source": [
        "from gp15wma.sensitivity import get_mean_and_stdev_skeletons\n",
        "\n",
        "mean_skeleton, std_skeleton = get_mean_and_stdev_skeletons(ompa_solns=ompa_solns)"
      ],
      "execution_count": null,
      "outputs": []
    },
    {
      "cell_type": "code",
      "metadata": {
        "id": "jow84i6xUhFS"
      },
      "source": [
        "#plot the solutions\n",
        "print(\"mean\")\n",
        "pyompa.plot_ompasoln_endmember_fractions(ompa_soln=mean_skeleton,\n",
        "                                  xaxis_colname=\"lat\",\n",
        "                                  yaxis_colname=\"Depth\",\n",
        "                                  group_endmembers=True)\n",
        "print(\"std\")\n",
        "pyompa.plot_ompasoln_endmember_fractions(ompa_soln=std_skeleton,\n",
        "                                  xaxis_colname=\"lat\",\n",
        "                                  yaxis_colname=\"Depth\",\n",
        "                                  group_endmembers=True)\n"
      ],
      "execution_count": null,
      "outputs": []
    },
    {
      "cell_type": "code",
      "metadata": {
        "id": "YGJndXQTVB-b"
      },
      "source": [
        "print(\"mean\")\n",
        "pyompa.plot_ompasoln_residuals(ompa_soln=mean_skeleton,\n",
        "                                  xaxis_colname=\"lat\",\n",
        "                                  yaxis_colname=\"Depth\")\n",
        "print(\"std\")\n",
        "pyompa.plot_ompasoln_residuals(ompa_soln=std_skeleton,\n",
        "                                  xaxis_colname=\"lat\",\n",
        "                                  yaxis_colname=\"Depth\")"
      ],
      "execution_count": null,
      "outputs": []
    },
    {
      "cell_type": "code",
      "metadata": {
        "id": "WZE8-DoOT5Sj"
      },
      "source": [
        ""
      ],
      "execution_count": null,
      "outputs": []
    }
  ]
}